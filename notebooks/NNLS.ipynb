{
 "cells": [
  {
   "cell_type": "code",
   "execution_count": 1,
   "metadata": {},
   "outputs": [],
   "source": [
    "import vamp\n",
    "import os\n",
    "import sys\n",
    "import pickle\n",
    "import numpy as np\n",
    "import essentia.standard as ess\n",
    "import essentia.streaming as esstr\n",
    "import essentia\n",
    "\n",
    "import matplotlib\n",
    "import matplotlib.pyplot as plt\n",
    "from matplotlib.patches import Polygon\n",
    "from matplotlib.collections import PatchCollection\n",
    "\n",
    "%matplotlib inline\n",
    "import IPython.display as ipd\n",
    "from pygments import highlight\n",
    "from pygments.lexers import JavascriptLexer\n",
    "from pygments.formatters import HtmlFormatter\n",
    "import IPython\n",
    "import pandas as pd\n",
    "import seaborn as sns\n",
    "\n",
    "from sklearn.mixture import GaussianMixture\n",
    "import mir_eval.sonify as sonify\n",
    "\n",
    "\n",
    "def nnlsChromaFromAudio(audiofile, sampleRate=44100, stepSize=2048):\n",
    "    mywindow = np.array(\n",
    "        [0.001769, 0.015848, 0.043608, 0.084265, 0.136670, 0.199341, 0.270509, 0.348162, 0.430105, 0.514023,\n",
    "         0.597545, 0.678311, 0.754038, 0.822586, 0.882019, 0.930656, 0.967124, 0.990393, 0.999803, 0.999803,\n",
    "         0.999803, 0.999803, 0.999803, 0.999803, 0.999803, 0.999803, 0.999803, 0.999803, 0.999803, 0.999803,\n",
    "         0.999803, 0.999803, 0.999803, 0.999803, 0.999803,\n",
    "         0.999803, 0.999803, 0.999803, 0.999803, 0.999803, 0.999803, 0.999803, 0.999650, 0.996856, 0.991283,\n",
    "         0.982963, 0.971942, 0.958281, 0.942058, 0.923362, 0.902299, 0.878986, 0.853553, 0.826144,\n",
    "         0.796910, 0.766016, 0.733634, 0.699946, 0.665140, 0.629410, 0.592956, 0.555982, 0.518696,\n",
    "         0.481304, 0.444018, 0.407044, 0.370590, 0.334860, 0.300054, 0.266366, 0.233984, 0.203090,\n",
    "         0.173856, 0.146447, 0.121014, 0.097701, 0.076638, 0.057942, 0.041719, 0.028058, 0.017037,\n",
    "         0.008717, 0.003144, 0.000350])\n",
    "    audio = essentia.standard.MonoLoader(filename=audiofile, sampleRate=sampleRate)()\n",
    "\n",
    "    stepsize, semitones = vamp.collect(\n",
    "        audio, sampleRate, \"nnls-chroma:nnls-chroma\", output=\"semitonespectrum\", step_size=stepSize)[\"matrix\"]\n",
    "    chroma = np.zeros((semitones.shape[0], 12))\n",
    "    for i in range(semitones.shape[0]):\n",
    "        tones = semitones[i] * mywindow\n",
    "        cc = chroma[i]\n",
    "        for j in range(tones.size):\n",
    "            cc[j % 12] = cc[j % 12] + tones[j]\n",
    "    # roll from 'A' based to 'C' based\n",
    "    chroma = np.roll(chroma, shift=-3, axis=1)\n",
    "    return chroma"
   ]
  },
  {
   "cell_type": "code",
   "execution_count": 2,
   "metadata": {},
   "outputs": [],
   "source": [
    "chroma = nnlsChromaFromAudio('../data/chroma/maj35fromE.wav')"
   ]
  },
  {
   "cell_type": "code",
   "execution_count": 3,
   "metadata": {},
   "outputs": [
    {
     "data": {
      "text/plain": [
       "array([[  0.00000000e+00,   0.00000000e+00,   0.00000000e+00, ...,\n",
       "          0.00000000e+00,   0.00000000e+00,   0.00000000e+00],\n",
       "       [  0.00000000e+00,   0.00000000e+00,   0.00000000e+00, ...,\n",
       "          0.00000000e+00,   0.00000000e+00,   0.00000000e+00],\n",
       "       [  0.00000000e+00,   0.00000000e+00,   0.00000000e+00, ...,\n",
       "          0.00000000e+00,   0.00000000e+00,   0.00000000e+00],\n",
       "       ..., \n",
       "       [  0.00000000e+00,   0.00000000e+00,   9.51086413e-02, ...,\n",
       "          1.08412935e-04,   7.38242965e-04,   3.53295480e+00],\n",
       "       [  0.00000000e+00,   2.65900522e-02,   3.42743365e-01, ...,\n",
       "          1.12759329e-04,   1.31285274e-03,   3.18792227e+00],\n",
       "       [  5.92510718e-01,   1.90285606e-01,   6.98561950e-01, ...,\n",
       "          1.98473061e-04,   2.79598946e-03,   2.35216722e+00]])"
      ]
     },
     "execution_count": 3,
     "metadata": {},
     "output_type": "execute_result"
    }
   ],
   "source": [
    "chroma"
   ]
  }
 ],
 "metadata": {
  "kernelspec": {
   "display_name": "Python 3",
   "language": "python",
   "name": "python3"
  },
  "language_info": {
   "codemirror_mode": {
    "name": "ipython",
    "version": 3
   },
   "file_extension": ".py",
   "mimetype": "text/x-python",
   "name": "python",
   "nbconvert_exporter": "python",
   "pygments_lexer": "ipython3",
   "version": "3.5.2"
  }
 },
 "nbformat": 4,
 "nbformat_minor": 2
}
